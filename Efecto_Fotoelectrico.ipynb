{
  "cells": [
    {
      "cell_type": "markdown",
      "source": [
        "# EJERCICIO EXTRA: **Equivalencia entre las ecuaciones de la recta**\n",
        "\n",
        "Se parte de la ecuación del segmento:\n",
        "\n",
        "$$\n",
        "\\frac{x - x_1}{x_2 - x_1} = \\frac{y - y_1}{y_2 - y_1}\n",
        "$$\n",
        "\n",
        "### **Paso 1: Despejamos $( y - y_1 )$**\n",
        "\n",
        "$$\n",
        "y - y_1 = \\frac{x - x_1}{x_2 - x_1} \\cdot (y_2 - y_1)\n",
        "$$\n",
        "\n",
        "### **Paso 2: Pasamos $( y_1 )$ al lado contrario sumando**\n",
        "\n",
        "$$\n",
        "y = \\frac{(x - x_1) \\cdot (y_2 - y_1)}{x_2 - x_1} + y_1\n",
        "$$\n",
        "\n",
        "### **Paso 3: Expandiendo términos**\n",
        "\n",
        "$$\n",
        "y = \\frac{x y_2 - x_1 y_2 - x y_1 + x_1 y_1}{x_2 - x_1}\n",
        "$$\n",
        "\n",
        "### **Paso 4: Separando términos**\n",
        "\n",
        "$$\n",
        "y = \\frac{x y_2 - x_1 y_2}{x_2 - x_1} + \\frac{x_1 y_1 - x y_1}{x_2 - x_1}\n",
        "$$\n",
        "\n",
        "### **Paso 5: Factorizamos los coeficientes**\n",
        "\n",
        "$$\n",
        "y = (\\frac{y_2 - y_1}{x_2 - x_1}) \\cdot x + \\frac{x_2 y_1 - x_1 y_2}{x_2 - x_1}\n",
        "$$\n",
        "\n",
        "### **Conclusión**\n",
        "\n",
        "Esto tiene la forma de la ecuación de la recta:\n",
        "\n",
        "$$\n",
        "y = m \\cdot x + b\n",
        "$$\n",
        "\n",
        "Donde:\n",
        "\n",
        "$$\n",
        "m = \\frac{y_2 - y_1}{x_2 - x_1}, \\quad b = \\frac{x_2 y_1 - x_1 y_2}{x_2 - x_1}\n",
        "$$\n"
      ],
      "metadata": {
        "nteract": {
          "transient": {
            "deleting": false
          }
        }
      }
    },
    {
      "cell_type": "markdown",
      "source": [
        "# EJERCICIO 1: **Relación entre Longitud de Onda y Frecuencia**\n",
        "\n",
        "La luz visible es una parte del espectro electromagnético que se caracteriza por diferentes colores según su longitud de onda. La relación entre la frecuencia $f$ y la longitud de onda $\\lambda$ está dada por la ecuación:\n",
        "\n",
        "$$\n",
        "f = \\frac{c}{\\lambda}\n",
        "$$\n",
        "\n",
        "Donde:\n",
        "- $f$ a frecuencia en Hertz (Hz).\n",
        "- $c = 3.0 \\times 10^8 m/s$ es la velocidad de la luz en el vacío.\n",
        "- $\\lambda$ es la longitud de onda en metros (m).\n",
        "\n",
        "## **Tabla de Longitudes de Onda y Frecuencia**\n",
        "\n",
        "  | Color     | Longitud de Onda (nm) | Longitud de Onda (m) | Frecuencia (Hz) |\n",
        "  |-----------|----------------------|----------------------|------------------|\n",
        "  | **Violeta**   | 380 - 450  | $3.8 \\times 10^{-7}$ - $4.5 \\times 10^{-7}$ | $6.67 \\times 10^{14}$ - $7.89 \\times 10^{14}$ |\n",
        "  | **Azul**      | 450 - 495  | $4.5 \\times 10^{-7}$ - $4.95 \\times 10^{-7}$ | $6.06 \\times 10^{14}$ - $6.67 \\times 10^{14}$ |\n",
        "  | **Cian**      | 495 - 570  | $4.95 \\times 10^{-7}$ - $5.7 \\times 10^{-7}$ | $5.26 \\times 10^{14}$ - $6.06 \\times 10^{14}$ |\n",
        "  | **Verde**     | 570 - 590  | $5.7 \\times 10^{-7}$ - $5.9 \\times 10^{-7}$ | $5.08 \\times 10^{14}$ - $5.26 \\times 10^{14}$ |\n",
        "  | **Amarillo**  | 590 - 620  | $5.9 \\times 10^{-7}$ - $6.2 \\times 10^{-7}$ | $4.84 \\times 10^{14}$ - $5.08 \\times 10^{14}$ |\n",
        "  | **Naranja**   | 620 - 750  | $6.2 \\times 10^{-7}$ - $7.5 \\times 10^{-7}$ | $4.00 \\times 10^{14}$ - $4.84 \\times 10^{14}$ |\n",
        "  | **Rojo**      | 750 - 780  | $7.5 \\times 10^{-7}$ - $7.8 \\times 10^{-7}$ | $3.85 \\times 10^{14}$ - $4.00 \\times 10^{14}$ |\n",
        "\n",
        "\n",
        "\n",
        "## **Imagen del Espectro de Luz Visible**\n",
        "\n",
        "<p align=\"center\">\n",
        "    <img src=\"https://sensing.konicaminolta.us/wp-content/uploads/chart-luz.png\" alt=\"Espectro de Luz Visible\">\n",
        "</p>\n",
        "\n",
        "<p align=\"center\">\n",
        "  <b><i>Figura 1. Longitud de onda relacionada con el espectro visible de los colores.</i></b>\n",
        "</p>\n"
      ],
      "metadata": {
        "nteract": {
          "transient": {
            "deleting": false
          }
        }
      }
    },
    {
      "cell_type": "code",
      "source": [],
      "outputs": [],
      "execution_count": null,
      "metadata": {
        "collapsed": true,
        "jupyter": {
          "source_hidden": false,
          "outputs_hidden": false
        },
        "nteract": {
          "transient": {
            "deleting": false
          }
        }
      }
    }
  ],
  "metadata": {
    "kernel_info": {
      "name": "node_nteract"
    },
    "language_info": {
      "name": "javascript",
      "version": "12.8.1",
      "mimetype": "application/javascript",
      "file_extension": ".js"
    },
    "kernelspec": {
      "argv": [
        "C:\\Program Files\\nteract\\nteract.exe",
        "C:\\Program Files\\nteract\\resources\\app.asar\\node_modules\\ijavascript\\lib\\kernel.js",
        "{connection_file}",
        "--protocol=5.0",
        "--hide-undefined"
      ],
      "display_name": "Node.js (nteract)",
      "env": {
        "ELECTRON_RUN_AS_NODE": "1",
        "NODE_PATH": "C:\\Program Files\\nteract\\resources\\app.asar\\node_modules"
      },
      "language": "javascript",
      "name": "node_nteract"
    },
    "gist_id": "18d670a4e94586743061286acf88f1f9",
    "nteract": {
      "version": "0.28.0"
    }
  },
  "nbformat": 4,
  "nbformat_minor": 0
}